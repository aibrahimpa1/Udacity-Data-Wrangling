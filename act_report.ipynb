{
 "cells": [
  {
   "cell_type": "markdown",
   "metadata": {},
   "source": [
    "# This file contains some visual analysis and explanations about our dataset"
   ]
  },
  {
   "cell_type": "markdown",
   "metadata": {},
   "source": [
    "### Let's first see tweeting trend over time"
   ]
  },
  {
   "cell_type": "markdown",
   "metadata": {},
   "source": [
    "<img src=\"Tweet_trend.png\">"
   ]
  },
  {
   "cell_type": "markdown",
   "metadata": {},
   "source": [
    "As we can spot, number of tweets first increased and then decreased significantly in 2015, after what it remained mostly constant until the middle of 2017 when it decreased again. The reason for this trend may be that after the account was created, many people thought it was interesting (that is the reason for increasing), after which it had more or less the same number of subscribers. After middle of 2017, the account is losing tweets probably due to lack of uploads and after that we have no more data to investigate further"
   ]
  },
  {
   "cell_type": "markdown",
   "metadata": {},
   "source": [
    "### Let's see how does the dog breed affect the number of likes because that seems like the most important discovery "
   ]
  },
  {
   "cell_type": "markdown",
   "metadata": {},
   "source": [
    "<img src=\"Number of likes vs dog breed.png\"> "
   ]
  },
  {
   "cell_type": "markdown",
   "metadata": {},
   "source": [
    "Based on this, we can conclude that lakeland terrier and labrador retriever stole the most attention. However, golden retriever taking the second place is also due to the fact that they appear the most among all the images. On the other hand, seems like lakeland terrier is just irresistible because it's not in top number of dog breed counts."
   ]
  },
  {
   "cell_type": "markdown",
   "metadata": {},
   "source": [
    "### Let's see how does the dog breed affect the number of retweets because that seems and if it has the same trend like number of likes"
   ]
  },
  {
   "cell_type": "markdown",
   "metadata": {},
   "source": [
    "<img src=\"Number of retweets vs dog breed.png\">"
   ]
  },
  {
   "cell_type": "markdown",
   "metadata": {},
   "source": [
    "Seems that labrador retriever has the most retweets, followed by chiuaua and eskimo dog. They are all among the top 15 dogs according to number of dogs per dog breed."
   ]
  },
  {
   "cell_type": "markdown",
   "metadata": {},
   "source": [
    "#### Here are some of the top dog breeds"
   ]
  },
  {
   "cell_type": "markdown",
   "metadata": {},
   "source": [
    "<img src=\"top_10_dog_breeds.png\">"
   ]
  },
  {
   "cell_type": "markdown",
   "metadata": {},
   "source": [
    " We can tell that some of them are among favorite dogs (dogs with the most likes and retweets), whereas others are not. We can't really determine what makes some dogs more likeable than others, but we can definitely conclude that good picture and good description contribute a lot to the attention that tweet receives."
   ]
  },
  {
   "cell_type": "markdown",
   "metadata": {},
   "source": [
    "### Let's see how likes are changing over the years"
   ]
  },
  {
   "cell_type": "markdown",
   "metadata": {},
   "source": [
    "<img src=\"likes over the years.png\">\n"
   ]
  },
  {
   "cell_type": "markdown",
   "metadata": {},
   "source": [
    "Number of likes increased significantly in 2016, second year since the account was created. It continues with the increasing trend in 2017 too, but not as much as 2015 to 2016."
   ]
  },
  {
   "cell_type": "markdown",
   "metadata": {},
   "source": [
    "### Let's see how retweets are changing over the years"
   ]
  },
  {
   "cell_type": "markdown",
   "metadata": {},
   "source": [
    "<img src=\"retweets over the years.png\">\n"
   ]
  },
  {
   "cell_type": "markdown",
   "metadata": {},
   "source": [
    "Number of retweets also increased in 2016, however, it decreased in 2017. Maybe people are using this option less and 'like' is more used. Seems like in the future, retweets will continue to have decreasing trend unless the account owner(s) add more content to it."
   ]
  },
  {
   "cell_type": "markdown",
   "metadata": {},
   "source": [
    "### Let's see what the most popular dog names are"
   ]
  },
  {
   "cell_type": "markdown",
   "metadata": {},
   "source": [
    "<img src=\"Top_10_dog_names.png\">\n"
   ]
  },
  {
   "cell_type": "markdown",
   "metadata": {},
   "source": [
    "Most of the dogs has no name defined, or they had errourness name which I corrected to 'No_name'. Other than that, there are some typical do names that do repeat, and most of them are human names too. "
   ]
  }
 ],
 "metadata": {
  "kernelspec": {
   "display_name": "Python 3",
   "language": "python",
   "name": "python3"
  },
  "language_info": {
   "codemirror_mode": {
    "name": "ipython",
    "version": 3
   },
   "file_extension": ".py",
   "mimetype": "text/x-python",
   "name": "python",
   "nbconvert_exporter": "python",
   "pygments_lexer": "ipython3",
   "version": "3.7.4"
  }
 },
 "nbformat": 4,
 "nbformat_minor": 4
}
