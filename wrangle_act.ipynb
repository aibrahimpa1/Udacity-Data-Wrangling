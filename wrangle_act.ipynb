{
 "cells": [
  {
   "cell_type": "markdown",
   "metadata": {},
   "source": [
    "# Libraries"
   ]
  },
  {
   "cell_type": "code",
   "execution_count": 1,
   "metadata": {},
   "outputs": [
    {
     "name": "stdout",
     "output_type": "stream",
     "text": [
      "Requirement already satisfied: beautifulsoup4 in c:\\users\\amina lejla\\appdata\\local\\programs\\python\\python37\\lib\\site-packages (4.9.3)\n",
      "Requirement already satisfied: soupsieve>1.2; python_version >= \"3.0\" in c:\\users\\amina lejla\\appdata\\local\\programs\\python\\python37\\lib\\site-packages (from beautifulsoup4) (2.1)\n"
     ]
    },
    {
     "name": "stderr",
     "output_type": "stream",
     "text": [
      "You are using pip version 19.0.3, however version 20.3.3 is available.\n",
      "You should consider upgrading via the 'python -m pip install --upgrade pip' command.\n"
     ]
    }
   ],
   "source": [
    "!pip install beautifulsoup4"
   ]
  },
  {
   "cell_type": "code",
   "execution_count": 2,
   "metadata": {},
   "outputs": [],
   "source": [
    "import pandas as pd\n",
    "import numpy as np\n",
    "import random\n",
    "import json\n",
    "import matplotlib.pyplot as plt\n",
    "import statsmodels.api as sm\n",
    "import requests\n",
    "import re\n",
    "from pathlib import Path\n",
    "from bs4 import BeautifulSoup\n",
    "import seaborn as sb\n",
    "plt.rcParams['figure.figsize'] = [15, 7] # For bigger plots\n",
    "plt.style.use('fivethirtyeight') # Special style template for matplotlib, highly useful for visualizing time series data\n",
    "%matplotlib inline"
   ]
  },
  {
   "cell_type": "markdown",
   "metadata": {},
   "source": [
    "# Gather"
   ]
  },
  {
   "cell_type": "code",
   "execution_count": 3,
   "metadata": {},
   "outputs": [],
   "source": [
    "twitter_data_file = \"twitter-archive-enhanced.csv\"\n",
    "tweet_metadata_file = \"tweet-json.txt\"\n",
    "image_predictions_file = \"image-predictions.tsv\""
   ]
  },
  {
   "cell_type": "code",
   "execution_count": 4,
   "metadata": {},
   "outputs": [
    {
     "data": {
      "text/html": [
       "<div>\n",
       "<style scoped>\n",
       "    .dataframe tbody tr th:only-of-type {\n",
       "        vertical-align: middle;\n",
       "    }\n",
       "\n",
       "    .dataframe tbody tr th {\n",
       "        vertical-align: top;\n",
       "    }\n",
       "\n",
       "    .dataframe thead th {\n",
       "        text-align: right;\n",
       "    }\n",
       "</style>\n",
       "<table border=\"1\" class=\"dataframe\">\n",
       "  <thead>\n",
       "    <tr style=\"text-align: right;\">\n",
       "      <th></th>\n",
       "      <th>tweet_id</th>\n",
       "      <th>in_reply_to_status_id</th>\n",
       "      <th>in_reply_to_user_id</th>\n",
       "      <th>timestamp</th>\n",
       "      <th>source</th>\n",
       "      <th>text</th>\n",
       "      <th>retweeted_status_id</th>\n",
       "      <th>retweeted_status_user_id</th>\n",
       "      <th>retweeted_status_timestamp</th>\n",
       "      <th>expanded_urls</th>\n",
       "      <th>rating_numerator</th>\n",
       "      <th>rating_denominator</th>\n",
       "      <th>name</th>\n",
       "      <th>doggo</th>\n",
       "      <th>floofer</th>\n",
       "      <th>pupper</th>\n",
       "      <th>puppo</th>\n",
       "    </tr>\n",
       "  </thead>\n",
       "  <tbody>\n",
       "    <tr>\n",
       "      <th>1365</th>\n",
       "      <td>702684942141153280</td>\n",
       "      <td>NaN</td>\n",
       "      <td>NaN</td>\n",
       "      <td>2016-02-25 02:42:00 +0000</td>\n",
       "      <td>&lt;a href=\"http://twitter.com/download/iphone\" r...</td>\n",
       "      <td>This is Lucy. She's sick of these bullshit gen...</td>\n",
       "      <td>NaN</td>\n",
       "      <td>NaN</td>\n",
       "      <td>NaN</td>\n",
       "      <td>https://twitter.com/dog_rates/status/702684942...</td>\n",
       "      <td>11</td>\n",
       "      <td>10</td>\n",
       "      <td>Lucy</td>\n",
       "      <td>None</td>\n",
       "      <td>None</td>\n",
       "      <td>None</td>\n",
       "      <td>None</td>\n",
       "    </tr>\n",
       "    <tr>\n",
       "      <th>1580</th>\n",
       "      <td>687127927494963200</td>\n",
       "      <td>NaN</td>\n",
       "      <td>NaN</td>\n",
       "      <td>2016-01-13 04:23:58 +0000</td>\n",
       "      <td>&lt;a href=\"http://twitter.com/download/iphone\" r...</td>\n",
       "      <td>Meet Gordon. He's an asshole. 9/10 would still...</td>\n",
       "      <td>NaN</td>\n",
       "      <td>NaN</td>\n",
       "      <td>NaN</td>\n",
       "      <td>https://twitter.com/dog_rates/status/687127927...</td>\n",
       "      <td>9</td>\n",
       "      <td>10</td>\n",
       "      <td>Gordon</td>\n",
       "      <td>None</td>\n",
       "      <td>None</td>\n",
       "      <td>None</td>\n",
       "      <td>None</td>\n",
       "    </tr>\n",
       "    <tr>\n",
       "      <th>1593</th>\n",
       "      <td>686386521809772549</td>\n",
       "      <td>NaN</td>\n",
       "      <td>NaN</td>\n",
       "      <td>2016-01-11 03:17:53 +0000</td>\n",
       "      <td>&lt;a href=\"http://twitter.com/download/iphone\" r...</td>\n",
       "      <td>Say hello to Crimson. He's a Speckled Winnebag...</td>\n",
       "      <td>NaN</td>\n",
       "      <td>NaN</td>\n",
       "      <td>NaN</td>\n",
       "      <td>https://twitter.com/dog_rates/status/686386521...</td>\n",
       "      <td>11</td>\n",
       "      <td>10</td>\n",
       "      <td>Crimson</td>\n",
       "      <td>None</td>\n",
       "      <td>None</td>\n",
       "      <td>None</td>\n",
       "      <td>None</td>\n",
       "    </tr>\n",
       "    <tr>\n",
       "      <th>631</th>\n",
       "      <td>794205286408003585</td>\n",
       "      <td>NaN</td>\n",
       "      <td>NaN</td>\n",
       "      <td>2016-11-03 15:51:10 +0000</td>\n",
       "      <td>&lt;a href=\"http://twitter.com/download/iphone\" r...</td>\n",
       "      <td>This is Laika. She was a space pupper. The fir...</td>\n",
       "      <td>NaN</td>\n",
       "      <td>NaN</td>\n",
       "      <td>NaN</td>\n",
       "      <td>https://twitter.com/dog_rates/status/794205286...</td>\n",
       "      <td>14</td>\n",
       "      <td>10</td>\n",
       "      <td>Laika</td>\n",
       "      <td>None</td>\n",
       "      <td>None</td>\n",
       "      <td>pupper</td>\n",
       "      <td>None</td>\n",
       "    </tr>\n",
       "    <tr>\n",
       "      <th>1419</th>\n",
       "      <td>698342080612007937</td>\n",
       "      <td>NaN</td>\n",
       "      <td>NaN</td>\n",
       "      <td>2016-02-13 03:05:01 +0000</td>\n",
       "      <td>&lt;a href=\"http://twitter.com/download/iphone\" r...</td>\n",
       "      <td>This is Maximus. He's training for the tetherb...</td>\n",
       "      <td>NaN</td>\n",
       "      <td>NaN</td>\n",
       "      <td>NaN</td>\n",
       "      <td>https://twitter.com/dog_rates/status/698342080...</td>\n",
       "      <td>11</td>\n",
       "      <td>10</td>\n",
       "      <td>Maximus</td>\n",
       "      <td>None</td>\n",
       "      <td>None</td>\n",
       "      <td>None</td>\n",
       "      <td>None</td>\n",
       "    </tr>\n",
       "  </tbody>\n",
       "</table>\n",
       "</div>"
      ],
      "text/plain": [
       "                tweet_id  in_reply_to_status_id  in_reply_to_user_id  \\\n",
       "1365  702684942141153280                    NaN                  NaN   \n",
       "1580  687127927494963200                    NaN                  NaN   \n",
       "1593  686386521809772549                    NaN                  NaN   \n",
       "631   794205286408003585                    NaN                  NaN   \n",
       "1419  698342080612007937                    NaN                  NaN   \n",
       "\n",
       "                      timestamp  \\\n",
       "1365  2016-02-25 02:42:00 +0000   \n",
       "1580  2016-01-13 04:23:58 +0000   \n",
       "1593  2016-01-11 03:17:53 +0000   \n",
       "631   2016-11-03 15:51:10 +0000   \n",
       "1419  2016-02-13 03:05:01 +0000   \n",
       "\n",
       "                                                 source  \\\n",
       "1365  <a href=\"http://twitter.com/download/iphone\" r...   \n",
       "1580  <a href=\"http://twitter.com/download/iphone\" r...   \n",
       "1593  <a href=\"http://twitter.com/download/iphone\" r...   \n",
       "631   <a href=\"http://twitter.com/download/iphone\" r...   \n",
       "1419  <a href=\"http://twitter.com/download/iphone\" r...   \n",
       "\n",
       "                                                   text  retweeted_status_id  \\\n",
       "1365  This is Lucy. She's sick of these bullshit gen...                  NaN   \n",
       "1580  Meet Gordon. He's an asshole. 9/10 would still...                  NaN   \n",
       "1593  Say hello to Crimson. He's a Speckled Winnebag...                  NaN   \n",
       "631   This is Laika. She was a space pupper. The fir...                  NaN   \n",
       "1419  This is Maximus. He's training for the tetherb...                  NaN   \n",
       "\n",
       "      retweeted_status_user_id retweeted_status_timestamp  \\\n",
       "1365                       NaN                        NaN   \n",
       "1580                       NaN                        NaN   \n",
       "1593                       NaN                        NaN   \n",
       "631                        NaN                        NaN   \n",
       "1419                       NaN                        NaN   \n",
       "\n",
       "                                          expanded_urls  rating_numerator  \\\n",
       "1365  https://twitter.com/dog_rates/status/702684942...                11   \n",
       "1580  https://twitter.com/dog_rates/status/687127927...                 9   \n",
       "1593  https://twitter.com/dog_rates/status/686386521...                11   \n",
       "631   https://twitter.com/dog_rates/status/794205286...                14   \n",
       "1419  https://twitter.com/dog_rates/status/698342080...                11   \n",
       "\n",
       "      rating_denominator     name doggo floofer  pupper puppo  \n",
       "1365                  10     Lucy  None    None    None  None  \n",
       "1580                  10   Gordon  None    None    None  None  \n",
       "1593                  10  Crimson  None    None    None  None  \n",
       "631                   10    Laika  None    None  pupper  None  \n",
       "1419                  10  Maximus  None    None    None  None  "
      ]
     },
     "execution_count": 4,
     "metadata": {},
     "output_type": "execute_result"
    }
   ],
   "source": [
    "tweet_df = pd.read_csv(twitter_data_file)\n",
    "tweet_df.sample(5)"
   ]
  },
  {
   "cell_type": "code",
   "execution_count": 5,
   "metadata": {},
   "outputs": [
    {
     "data": {
      "text/plain": [
       "'import tweepy\\nfrom tweepy import OAuthHandler\\nimport json\\nfrom timeit import default_timer as timer\\n\\n# Query Twitter API for each tweet in the Twitter archive and save JSON in a text file\\n# These are hidden to comply with Twitter\\'s API terms and conditions\\nconsumer_key = \\'HIDDEN\\'\\nconsumer_secret = \\'HIDDEN\\'\\naccess_token = \\'HIDDEN\\'\\naccess_secret = \\'HIDDEN\\'\\n\\nauth = OAuthHandler(consumer_key, consumer_secret)\\nauth.set_access_token(access_token, access_secret)\\n\\napi = tweepy.API(auth, wait_on_rate_limit=True)\\n\\n# NOTE TO STUDENT WITH MOBILE VERIFICATION ISSUES:\\n# df_1 is a DataFrame with the twitter_archive_enhanced.csv file. You may have to\\n# change line 17 to match the name of your DataFrame with twitter_archive_enhanced.csv\\n# NOTE TO REVIEWER: this student had mobile verification issues so the following\\n# Twitter API code was sent to this student from a Udacity instructor\\n# Tweet IDs for which to gather additional data via Twitter\\'s API\\ntweet_ids = df_1.tweet_id.values\\nlen(tweet_ids)\\n\\n# Query Twitter\\'s API for JSON data for each tweet ID in the Twitter archive\\ncount = 0\\nfails_dict = {}\\nstart = timer()\\n# Save each tweet\\'s returned JSON as a new line in a .txt file\\nwith open(\\'tweet_json.txt\\', \\'w\\') as outfile:\\n    # This loop will likely take 20-30 minutes to run because of Twitter\\'s rate limit\\n    for tweet_id in tweet_ids:\\n        count += 1\\n        print(str(count) + \": \" + str(tweet_id))\\n        try:\\n            tweet = api.get_status(tweet_id, tweet_mode=\\'extended\\')\\n            print(\"Success\")\\n            json.dump(tweet._json, outfile)\\n            outfile.write(\\'\\n\\')\\n        except tweepy.TweepError as e:\\n            print(\"Fail\")\\n            fails_dict[tweet_id] = e\\n            pass\\nend = timer()\\nprint(end - start)\\nprint(fails_dict)\\n'"
      ]
     },
     "execution_count": 5,
     "metadata": {},
     "output_type": "execute_result"
    }
   ],
   "source": [
    "import tweepy\n",
    "from tweepy import OAuthHandler\n",
    "import json\n",
    "from timeit import default_timer as timer\n",
    "\n",
    "# Query Twitter API for each tweet in the Twitter archive and save JSON in a text file\n",
    "# These are hidden to comply with Twitter's API terms and conditions\n",
    "consumer_key = 'HIDDEN'\n",
    "consumer_secret = 'HIDDEN'\n",
    "access_token = 'HIDDEN'\n",
    "access_secret = 'HIDDEN'\n",
    "\n",
    "auth = OAuthHandler(consumer_key, consumer_secret)\n",
    "auth.set_access_token(access_token, access_secret)\n",
    "\n",
    "api = tweepy.API(auth, wait_on_rate_limit=True)\n",
    "\n",
    "# NOTE TO STUDENT WITH MOBILE VERIFICATION ISSUES:\n",
    "# df_1 is a DataFrame with the twitter_archive_enhanced.csv file. You may have to\n",
    "# change line 17 to match the name of your DataFrame with twitter_archive_enhanced.csv\n",
    "# NOTE TO REVIEWER: this student had mobile verification issues so the following\n",
    "# Twitter API code was sent to this student from a Udacity instructor\n",
    "# Tweet IDs for which to gather additional data via Twitter's API\n",
    "tweet_ids = tweet_df.tweet_id.values\n",
    "len(tweet_ids)\n",
    "\n",
    "# Query Twitter's API for JSON data for each tweet ID in the Twitter archive\n",
    "count = 0\n",
    "fails_dict = {}\n",
    "start = timer()\n",
    "# Save each tweet's returned JSON as a new line in a .txt file\n",
    "with open('tweet_json.txt', 'w') as outfile:\n",
    "    # This loop will likely take 20-30 minutes to run because of Twitter's rate limit\n",
    "    for tweet_id in tweet_ids:\n",
    "        count += 1\n",
    "        print(str(count) + \": \" + str(tweet_id))\n",
    "        try:\n",
    "            tweet = api.get_status(tweet_id, tweet_mode='extended')\n",
    "            print(\"Success\")\n",
    "            json.dump(tweet._json, outfile)\n",
    "            outfile.write('\\n')\n",
    "        except tweepy.TweepError as e:\n",
    "            print(\"Fail\")\n",
    "            fails_dict[tweet_id] = e\n",
    "            pass\n",
    "end = timer()\n",
    "print(end - start)\n",
    "print(fails_dict)"
   ]
  },
  {
   "cell_type": "code",
   "execution_count": 6,
   "metadata": {},
   "outputs": [],
   "source": [
    "# Accessing json file\n",
    "list_of_dicts = []\n",
    "with open(tweet_metadata_file, 'r') as f:\n",
    "    for line in f:\n",
    "        # convert json line to dict\n",
    "        data = json.loads(line)\n",
    "        # append dict to list\n",
    "        list_of_dicts.append(data)"
   ]
  },
  {
   "cell_type": "code",
   "execution_count": 7,
   "metadata": {},
   "outputs": [],
   "source": [
    "tweet_metadata_df = pd.DataFrame(list_of_dicts)"
   ]
  },
  {
   "cell_type": "code",
   "execution_count": 8,
   "metadata": {},
   "outputs": [],
   "source": [
    "# Downloading the file \"image-predictions\"\n",
    "url = 'https://d17h27t6h515a5.cloudfront.net/topher/2017/August/599fd2ad_image-predictions/image-predictions.tsv'\n",
    "# if the file does not exist, download it\n",
    "if not Path(image_predictions_file).is_file():\n",
    "    r = requests.get(url, allow_redirects=True)\n",
    "    with Path(image_predictions_file).open('wb') as f:\n",
    "        f.write(r.content)"
   ]
  },
  {
   "cell_type": "code",
   "execution_count": 9,
   "metadata": {},
   "outputs": [],
   "source": [
    "image_predictions_df = pd.read_csv(image_predictions_file, sep='\\t')"
   ]
  },
  {
   "cell_type": "markdown",
   "metadata": {},
   "source": [
    "# Assessing Data "
   ]
  },
  {
   "cell_type": "markdown",
   "metadata": {},
   "source": [
    "In this section, we will check the loaded data for quality and tidiness issues"
   ]
  },
  {
   "cell_type": "code",
   "execution_count": 10,
   "metadata": {},
   "outputs": [
    {
     "name": "stdout",
     "output_type": "stream",
     "text": [
      "<class 'pandas.core.frame.DataFrame'>\n",
      "RangeIndex: 2356 entries, 0 to 2355\n",
      "Data columns (total 17 columns):\n",
      " #   Column                      Non-Null Count  Dtype  \n",
      "---  ------                      --------------  -----  \n",
      " 0   tweet_id                    2356 non-null   int64  \n",
      " 1   in_reply_to_status_id       78 non-null     float64\n",
      " 2   in_reply_to_user_id         78 non-null     float64\n",
      " 3   timestamp                   2356 non-null   object \n",
      " 4   source                      2356 non-null   object \n",
      " 5   text                        2356 non-null   object \n",
      " 6   retweeted_status_id         181 non-null    float64\n",
      " 7   retweeted_status_user_id    181 non-null    float64\n",
      " 8   retweeted_status_timestamp  181 non-null    object \n",
      " 9   expanded_urls               2297 non-null   object \n",
      " 10  rating_numerator            2356 non-null   int64  \n",
      " 11  rating_denominator          2356 non-null   int64  \n",
      " 12  name                        2356 non-null   object \n",
      " 13  doggo                       2356 non-null   object \n",
      " 14  floofer                     2356 non-null   object \n",
      " 15  pupper                      2356 non-null   object \n",
      " 16  puppo                       2356 non-null   object \n",
      "dtypes: float64(4), int64(3), object(10)\n",
      "memory usage: 313.0+ KB\n"
     ]
    }
   ],
   "source": [
    "tweet_df.info()"
   ]
  },
  {
   "cell_type": "code",
   "execution_count": 11,
   "metadata": {},
   "outputs": [
    {
     "name": "stdout",
     "output_type": "stream",
     "text": [
      "<class 'pandas.core.frame.DataFrame'>\n",
      "RangeIndex: 2354 entries, 0 to 2353\n",
      "Data columns (total 31 columns):\n",
      " #   Column                         Non-Null Count  Dtype  \n",
      "---  ------                         --------------  -----  \n",
      " 0   created_at                     2354 non-null   object \n",
      " 1   id                             2354 non-null   int64  \n",
      " 2   id_str                         2354 non-null   object \n",
      " 3   full_text                      2354 non-null   object \n",
      " 4   truncated                      2354 non-null   bool   \n",
      " 5   display_text_range             2354 non-null   object \n",
      " 6   entities                       2354 non-null   object \n",
      " 7   extended_entities              2073 non-null   object \n",
      " 8   source                         2354 non-null   object \n",
      " 9   in_reply_to_status_id          78 non-null     float64\n",
      " 10  in_reply_to_status_id_str      78 non-null     object \n",
      " 11  in_reply_to_user_id            78 non-null     float64\n",
      " 12  in_reply_to_user_id_str        78 non-null     object \n",
      " 13  in_reply_to_screen_name        78 non-null     object \n",
      " 14  user                           2354 non-null   object \n",
      " 15  geo                            0 non-null      object \n",
      " 16  coordinates                    0 non-null      object \n",
      " 17  place                          1 non-null      object \n",
      " 18  contributors                   0 non-null      object \n",
      " 19  is_quote_status                2354 non-null   bool   \n",
      " 20  retweet_count                  2354 non-null   int64  \n",
      " 21  favorite_count                 2354 non-null   int64  \n",
      " 22  favorited                      2354 non-null   bool   \n",
      " 23  retweeted                      2354 non-null   bool   \n",
      " 24  possibly_sensitive             2211 non-null   object \n",
      " 25  possibly_sensitive_appealable  2211 non-null   object \n",
      " 26  lang                           2354 non-null   object \n",
      " 27  retweeted_status               179 non-null    object \n",
      " 28  quoted_status_id               29 non-null     float64\n",
      " 29  quoted_status_id_str           29 non-null     object \n",
      " 30  quoted_status                  28 non-null     object \n",
      "dtypes: bool(4), float64(3), int64(3), object(21)\n",
      "memory usage: 505.9+ KB\n"
     ]
    }
   ],
   "source": [
    "tweet_metadata_df.info()"
   ]
  },
  {
   "cell_type": "code",
   "execution_count": 12,
   "metadata": {},
   "outputs": [
    {
     "name": "stdout",
     "output_type": "stream",
     "text": [
      "<class 'pandas.core.frame.DataFrame'>\n",
      "RangeIndex: 2075 entries, 0 to 2074\n",
      "Data columns (total 12 columns):\n",
      " #   Column    Non-Null Count  Dtype  \n",
      "---  ------    --------------  -----  \n",
      " 0   tweet_id  2075 non-null   int64  \n",
      " 1   jpg_url   2075 non-null   object \n",
      " 2   img_num   2075 non-null   int64  \n",
      " 3   p1        2075 non-null   object \n",
      " 4   p1_conf   2075 non-null   float64\n",
      " 5   p1_dog    2075 non-null   bool   \n",
      " 6   p2        2075 non-null   object \n",
      " 7   p2_conf   2075 non-null   float64\n",
      " 8   p2_dog    2075 non-null   bool   \n",
      " 9   p3        2075 non-null   object \n",
      " 10  p3_conf   2075 non-null   float64\n",
      " 11  p3_dog    2075 non-null   bool   \n",
      "dtypes: bool(3), float64(3), int64(2), object(4)\n",
      "memory usage: 152.1+ KB\n"
     ]
    }
   ],
   "source": [
    "image_predictions_df.info()"
   ]
  },
  {
   "cell_type": "code",
   "execution_count": 13,
   "metadata": {},
   "outputs": [
    {
     "data": {
      "text/plain": [
       "2075"
      ]
     },
     "execution_count": 13,
     "metadata": {},
     "output_type": "execute_result"
    }
   ],
   "source": [
    "# Checking how many id columns files have-there are less ids in image-predictions\n",
    "image_predictions_df[\"tweet_id\"].nunique()"
   ]
  },
  {
   "cell_type": "code",
   "execution_count": 15,
   "metadata": {},
   "outputs": [
    {
     "data": {
      "text/plain": [
       "2354"
      ]
     },
     "execution_count": 15,
     "metadata": {},
     "output_type": "execute_result"
    }
   ],
   "source": [
    "tweet_metadata_df[\"id\"].nunique()"
   ]
  },
  {
   "cell_type": "code",
   "execution_count": 16,
   "metadata": {},
   "outputs": [
    {
     "data": {
      "text/plain": [
       "2356"
      ]
     },
     "execution_count": 16,
     "metadata": {},
     "output_type": "execute_result"
    }
   ],
   "source": [
    "tweet_df[\"tweet_id\"].nunique()"
   ]
  },
  {
   "cell_type": "code",
   "execution_count": 17,
   "metadata": {},
   "outputs": [
    {
     "data": {
      "text/plain": [
       "array([ 10,   0,  15,  70,   7,  11, 150, 170,  20,  50,  90,  80,  40,\n",
       "       130, 110,  16, 120,   2], dtype=int64)"
      ]
     },
     "execution_count": 17,
     "metadata": {},
     "output_type": "execute_result"
    }
   ],
   "source": [
    "# Checking the values of numerator and denominator so we can delete the rows that don't satisfy the \n",
    "# conditions mentioned in project instructions \n",
    "tweet_df[\"rating_denominator\"].unique()"
   ]
  },
  {
   "cell_type": "code",
   "execution_count": 18,
   "metadata": {},
   "outputs": [
    {
     "data": {
      "text/plain": [
       "array([  13,   12,   14,    5,   17,   11,   10,  420,  666,    6,   15,\n",
       "        182,  960,    0,   75,    7,   84,    9,   24,    8,    1,   27,\n",
       "          3,    4,  165, 1776,  204,   50,   99,   80,   45,   60,   44,\n",
       "        143,  121,   20,   26,    2,  144,   88], dtype=int64)"
      ]
     },
     "execution_count": 18,
     "metadata": {},
     "output_type": "execute_result"
    }
   ],
   "source": [
    "tweet_df[\"rating_numerator\"].unique()"
   ]
  },
  {
   "cell_type": "code",
   "execution_count": 19,
   "metadata": {},
   "outputs": [
    {
     "data": {
      "text/plain": [
       "<a href=\"http://twitter.com/download/iphone\" rel=\"nofollow\">Twitter for iPhone</a>     2221\n",
       "<a href=\"http://vine.co\" rel=\"nofollow\">Vine - Make a Scene</a>                          91\n",
       "<a href=\"http://twitter.com\" rel=\"nofollow\">Twitter Web Client</a>                       33\n",
       "<a href=\"https://about.twitter.com/products/tweetdeck\" rel=\"nofollow\">TweetDeck</a>      11\n",
       "Name: source, dtype: int64"
      ]
     },
     "execution_count": 19,
     "metadata": {},
     "output_type": "execute_result"
    }
   ],
   "source": [
    "tweet_df['source'].value_counts()"
   ]
  },
  {
   "cell_type": "code",
   "execution_count": 20,
   "metadata": {},
   "outputs": [
    {
     "data": {
      "text/plain": [
       "324"
      ]
     },
     "execution_count": 20,
     "metadata": {},
     "output_type": "execute_result"
    }
   ],
   "source": [
    "# Finding columns whose all three predictions are wrong-they are not dogs\n",
    "(\n",
    "    (image_predictions_df[\"p1_dog\"] == False) & \n",
    "    (image_predictions_df[\"p2_dog\"] == False) & \n",
    "    (image_predictions_df[\"p3_dog\"] == False)\n",
    ").sum()"
   ]
  },
  {
   "cell_type": "markdown",
   "metadata": {},
   "source": [
    "## Quality issues"
   ]
  },
  {
   "cell_type": "markdown",
   "metadata": {},
   "source": [
    "* Number of rows does not match for all the dataframes\n",
    "* tweet_metadata_df has duplicate column (id, id_str) column \n",
    "* image_predictions_df contains less users than tweet_df, meaning it is missing around 300 of users\n",
    "* tweet_df column \"rating_numerator\" contains values much greater than 10, for example 1776, 666, but also much smaller, like 2 or 5, which is wrong according to the data description\n",
    "* tweet_df column \"rating_denominator\" contains values greater than 10, for example 170, 150,  but also smaller, like 2 or 0 which is wrong according to the data description because value should be 10 in almost all cases\n",
    "* Erroneous dog names like a, quite, life\n",
    "* Some rows contain more than one dog type per dog\n",
    "* tweet_metadata_df has a lot of columns with mostrly NaN values\n",
    "* In image_predictions_df there exist rows where none of the 3 predictions are dogs - some contain words like vacuum, swab, toyshop"
   ]
  },
  {
   "cell_type": "markdown",
   "metadata": {},
   "source": [
    "## Tidiness issues"
   ]
  },
  {
   "cell_type": "markdown",
   "metadata": {},
   "source": [
    "* tweet_df column \"source\" starts with \"<ahref\" which is html language; we need only link starting with \"http...\", so we can get rid of the excess text and categorize the sources\n",
    "* Some of the dogs are not well described. That is why there are None values in dog stages - whenever there is a key word - 'doggo, floofer, pupper or puppo' in description-it automatically puts the dog in one of the categories. If there is no key word in description, the dog can't be categorized in one of these 4 categories, or if the description contains more than one keywords, the dog will be included in more than one category of dog stages/types."
   ]
  },
  {
   "cell_type": "markdown",
   "metadata": {},
   "source": [
    "# Cleaning data"
   ]
  },
  {
   "cell_type": "markdown",
   "metadata": {},
   "source": [
    "**Define**\n",
    "Dropping the rows where denominator is not 10, and where numerator is smaller than 10 or bigger than 100\n"
   ]
  },
  {
   "cell_type": "markdown",
   "metadata": {},
   "source": [
    "**Code**"
   ]
  },
  {
   "cell_type": "code",
   "execution_count": 21,
   "metadata": {},
   "outputs": [],
   "source": [
    "tweet_df = tweet_df.drop(tweet_df[tweet_df['rating_denominator']!=10].index)\n",
    "tweet_df = tweet_df.drop(tweet_df[tweet_df['rating_numerator']<10].index)\n",
    "tweet_df = tweet_df.drop(tweet_df[tweet_df['rating_numerator']>100].index)"
   ]
  },
  {
   "cell_type": "markdown",
   "metadata": {},
   "source": [
    "**Test**"
   ]
  },
  {
   "cell_type": "code",
   "execution_count": 22,
   "metadata": {},
   "outputs": [
    {
     "data": {
      "text/plain": [
       "array([13, 12, 14, 17, 11, 10, 15, 75, 27, 26], dtype=int64)"
      ]
     },
     "execution_count": 22,
     "metadata": {},
     "output_type": "execute_result"
    }
   ],
   "source": [
    "tweet_df['rating_numerator'].unique()"
   ]
  },
  {
   "cell_type": "code",
   "execution_count": 23,
   "metadata": {},
   "outputs": [
    {
     "data": {
      "text/plain": [
       "10    1894\n",
       "Name: rating_denominator, dtype: int64"
      ]
     },
     "execution_count": 23,
     "metadata": {},
     "output_type": "execute_result"
    }
   ],
   "source": [
    "tweet_df['rating_denominator'].value_counts()"
   ]
  },
  {
   "cell_type": "markdown",
   "metadata": {},
   "source": [
    "**Define**\n",
    "Replace all the rows of dog names that contain some other word except for the name with 'No_name'."
   ]
  },
  {
   "cell_type": "markdown",
   "metadata": {},
   "source": [
    "**Code**"
   ]
  },
  {
   "cell_type": "code",
   "execution_count": 24,
   "metadata": {},
   "outputs": [
    {
     "name": "stderr",
     "output_type": "stream",
     "text": [
      "c:\\users\\amina lejla\\appdata\\local\\programs\\python\\python37\\lib\\site-packages\\ipykernel_launcher.py:1: SettingWithCopyWarning: \n",
      "A value is trying to be set on a copy of a slice from a DataFrame\n",
      "\n",
      "See the caveats in the documentation: https://pandas.pydata.org/pandas-docs/stable/user_guide/indexing.html#returning-a-view-versus-a-copy\n",
      "  \"\"\"Entry point for launching an IPython kernel.\n"
     ]
    }
   ],
   "source": [
    "tweet_df['name'][tweet_df['name'].str.match('[a-z]+')] = 'No_name'\n",
    "tweet_df['name'] = tweet_df['name'].fillna('No_name')"
   ]
  },
  {
   "cell_type": "code",
   "execution_count": 25,
   "metadata": {},
   "outputs": [
    {
     "data": {
      "text/plain": [
       "None       584\n",
       "No_name     70\n",
       "Charlie     12\n",
       "Oliver      10\n",
       "Cooper      10\n",
       "          ... \n",
       "Simba        1\n",
       "Lennon       1\n",
       "Linda        1\n",
       "Marvin       1\n",
       "Cupid        1\n",
       "Name: name, Length: 793, dtype: int64"
      ]
     },
     "execution_count": 25,
     "metadata": {},
     "output_type": "execute_result"
    }
   ],
   "source": [
    "tweet_df['name'].value_counts()"
   ]
  },
  {
   "cell_type": "markdown",
   "metadata": {},
   "source": [
    "**Define**\n",
    "Splitting the column with dog description into two columns - description and link"
   ]
  },
  {
   "cell_type": "markdown",
   "metadata": {},
   "source": [
    "**Code**"
   ]
  },
  {
   "cell_type": "code",
   "execution_count": 26,
   "metadata": {},
   "outputs": [],
   "source": [
    "tweet_df['description'] = tweet_df['text'].map(lambda x: x[:x.find('http')])"
   ]
  },
  {
   "cell_type": "code",
   "execution_count": 27,
   "metadata": {},
   "outputs": [],
   "source": [
    "tweet_df['link'] = tweet_df.text.map(lambda x: x[x.find('http'):])"
   ]
  },
  {
   "cell_type": "markdown",
   "metadata": {},
   "source": [
    "**Test*"
   ]
  },
  {
   "cell_type": "code",
   "execution_count": 28,
   "metadata": {},
   "outputs": [
    {
     "data": {
      "text/plain": [
       "205    Meet Benny. He likes being adorable and making...\n",
       "Name: description, dtype: object"
      ]
     },
     "execution_count": 28,
     "metadata": {},
     "output_type": "execute_result"
    }
   ],
   "source": [
    "tweet_df['description'].sample(1)"
   ]
  },
  {
   "cell_type": "code",
   "execution_count": 29,
   "metadata": {},
   "outputs": [
    {
     "data": {
      "text/plain": [
       "0       https://t.co/MgUWQ76dJU\n",
       "1       https://t.co/0Xxu71qeIV\n",
       "2       https://t.co/wUnZnhtVJB\n",
       "3       https://t.co/tD36da7qLQ\n",
       "4       https://t.co/AtUZn91f7f\n",
       "                 ...           \n",
       "2339    https://t.co/11LvqN4WLq\n",
       "2343    https://t.co/Yk6GHE9tOY\n",
       "2345    https://t.co/RhUEAloehK\n",
       "2348    https://t.co/rdivxLiqEt\n",
       "2350    https://t.co/fvIbQfHjIe\n",
       "Name: link, Length: 1894, dtype: object"
      ]
     },
     "execution_count": 29,
     "metadata": {},
     "output_type": "execute_result"
    }
   ],
   "source": [
    "tweet_df['link']"
   ]
  },
  {
   "cell_type": "markdown",
   "metadata": {},
   "source": [
    "**Define**\n",
    "Categorizing the source of tweet and parsing the text"
   ]
  },
  {
   "cell_type": "markdown",
   "metadata": {},
   "source": [
    "**Code**"
   ]
  },
  {
   "cell_type": "code",
   "execution_count": 30,
   "metadata": {},
   "outputs": [],
   "source": [
    "tweet_df['source_category'] = tweet_df.source.map(lambda x: BeautifulSoup(x, 'html.parser').a.string)\n",
    "tweet_df['source_category'] = tweet_df['source_category'].astype('category')"
   ]
  },
  {
   "cell_type": "markdown",
   "metadata": {},
   "source": [
    "**Test**"
   ]
  },
  {
   "cell_type": "code",
   "execution_count": 31,
   "metadata": {},
   "outputs": [
    {
     "data": {
      "text/plain": [
       "Twitter for iPhone     1780\n",
       "Vine - Make a Scene      84\n",
       "Twitter Web Client       21\n",
       "TweetDeck                 9\n",
       "Name: source_category, dtype: int64"
      ]
     },
     "execution_count": 31,
     "metadata": {},
     "output_type": "execute_result"
    }
   ],
   "source": [
    "tweet_df['source_category'].value_counts()"
   ]
  },
  {
   "cell_type": "markdown",
   "metadata": {},
   "source": [
    "**Define**\n",
    " Dropping columns \n",
    " Reason: retweets are duplicates and they don't contain new information"
   ]
  },
  {
   "cell_type": "markdown",
   "metadata": {},
   "source": [
    "**Code**"
   ]
  },
  {
   "cell_type": "code",
   "execution_count": 32,
   "metadata": {},
   "outputs": [],
   "source": [
    "tweet_df = tweet_df.drop(['retweeted_status_id', 'source', 'retweeted_status_user_id', 'retweeted_status_timestamp', 'text'], axis=1)"
   ]
  },
  {
   "cell_type": "markdown",
   "metadata": {},
   "source": [
    "**Test**"
   ]
  },
  {
   "cell_type": "code",
   "execution_count": 33,
   "metadata": {},
   "outputs": [
    {
     "data": {
      "text/html": [
       "<div>\n",
       "<style scoped>\n",
       "    .dataframe tbody tr th:only-of-type {\n",
       "        vertical-align: middle;\n",
       "    }\n",
       "\n",
       "    .dataframe tbody tr th {\n",
       "        vertical-align: top;\n",
       "    }\n",
       "\n",
       "    .dataframe thead th {\n",
       "        text-align: right;\n",
       "    }\n",
       "</style>\n",
       "<table border=\"1\" class=\"dataframe\">\n",
       "  <thead>\n",
       "    <tr style=\"text-align: right;\">\n",
       "      <th></th>\n",
       "      <th>tweet_id</th>\n",
       "      <th>in_reply_to_status_id</th>\n",
       "      <th>in_reply_to_user_id</th>\n",
       "      <th>timestamp</th>\n",
       "      <th>expanded_urls</th>\n",
       "      <th>rating_numerator</th>\n",
       "      <th>rating_denominator</th>\n",
       "      <th>name</th>\n",
       "      <th>doggo</th>\n",
       "      <th>floofer</th>\n",
       "      <th>pupper</th>\n",
       "      <th>puppo</th>\n",
       "      <th>description</th>\n",
       "      <th>link</th>\n",
       "      <th>source_category</th>\n",
       "    </tr>\n",
       "  </thead>\n",
       "  <tbody>\n",
       "    <tr>\n",
       "      <th>61</th>\n",
       "      <td>880221127280381952</td>\n",
       "      <td>NaN</td>\n",
       "      <td>NaN</td>\n",
       "      <td>2017-06-29 00:27:25 +0000</td>\n",
       "      <td>https://twitter.com/dog_rates/status/880221127...</td>\n",
       "      <td>12</td>\n",
       "      <td>10</td>\n",
       "      <td>Jesse</td>\n",
       "      <td>None</td>\n",
       "      <td>None</td>\n",
       "      <td>None</td>\n",
       "      <td>None</td>\n",
       "      <td>Meet Jesse. He's a Fetty Woof. His tongue ejec...</td>\n",
       "      <td>https://t.co/fUod0tVmvK</td>\n",
       "      <td>Twitter for iPhone</td>\n",
       "    </tr>\n",
       "  </tbody>\n",
       "</table>\n",
       "</div>"
      ],
      "text/plain": [
       "              tweet_id  in_reply_to_status_id  in_reply_to_user_id  \\\n",
       "61  880221127280381952                    NaN                  NaN   \n",
       "\n",
       "                    timestamp  \\\n",
       "61  2017-06-29 00:27:25 +0000   \n",
       "\n",
       "                                        expanded_urls  rating_numerator  \\\n",
       "61  https://twitter.com/dog_rates/status/880221127...                12   \n",
       "\n",
       "    rating_denominator   name doggo floofer pupper puppo  \\\n",
       "61                  10  Jesse  None    None   None  None   \n",
       "\n",
       "                                          description  \\\n",
       "61  Meet Jesse. He's a Fetty Woof. His tongue ejec...   \n",
       "\n",
       "                       link     source_category  \n",
       "61  https://t.co/fUod0tVmvK  Twitter for iPhone  "
      ]
     },
     "execution_count": 33,
     "metadata": {},
     "output_type": "execute_result"
    }
   ],
   "source": [
    "tweet_df.sample(1)"
   ]
  },
  {
   "cell_type": "markdown",
   "metadata": {},
   "source": [
    "**Define**\n",
    "Convert timestamp to datetime"
   ]
  },
  {
   "cell_type": "markdown",
   "metadata": {},
   "source": [
    "**Code**"
   ]
  },
  {
   "cell_type": "code",
   "execution_count": 34,
   "metadata": {},
   "outputs": [],
   "source": [
    "tweet_df['timestamp'] = pd.to_datetime(tweet_df['timestamp'])"
   ]
  },
  {
   "cell_type": "markdown",
   "metadata": {},
   "source": [
    "**Test**"
   ]
  },
  {
   "cell_type": "code",
   "execution_count": 36,
   "metadata": {},
   "outputs": [
    {
     "data": {
      "text/plain": [
       "tweet_id                               int64\n",
       "in_reply_to_status_id                float64\n",
       "in_reply_to_user_id                  float64\n",
       "timestamp                datetime64[ns, UTC]\n",
       "expanded_urls                         object\n",
       "rating_numerator                       int64\n",
       "rating_denominator                     int64\n",
       "name                                  object\n",
       "doggo                                 object\n",
       "floofer                               object\n",
       "pupper                                object\n",
       "puppo                                 object\n",
       "description                           object\n",
       "link                                  object\n",
       "source_category                     category\n",
       "dtype: object"
      ]
     },
     "execution_count": 36,
     "metadata": {},
     "output_type": "execute_result"
    }
   ],
   "source": [
    "tweet_df.dtypes"
   ]
  },
  {
   "cell_type": "markdown",
   "metadata": {},
   "source": [
    "Some of the dogs have more than one stage per dog, but changing that wouldn't affect our data a lot because most of the dogs have None values for dog stages."
   ]
  },
  {
   "cell_type": "code",
   "execution_count": 37,
   "metadata": {},
   "outputs": [
    {
     "data": {
      "text/plain": [
       "None     1802\n",
       "doggo      92\n",
       "Name: doggo, dtype: int64"
      ]
     },
     "execution_count": 37,
     "metadata": {},
     "output_type": "execute_result"
    }
   ],
   "source": [
    "tweet_df['doggo'].value_counts()"
   ]
  },
  {
   "cell_type": "code",
   "execution_count": 38,
   "metadata": {},
   "outputs": [
    {
     "data": {
      "text/plain": [
       "None       1884\n",
       "floofer      10\n",
       "Name: floofer, dtype: int64"
      ]
     },
     "execution_count": 38,
     "metadata": {},
     "output_type": "execute_result"
    }
   ],
   "source": [
    "tweet_df['floofer'].value_counts()"
   ]
  },
  {
   "cell_type": "code",
   "execution_count": 39,
   "metadata": {},
   "outputs": [
    {
     "data": {
      "text/plain": [
       "None      1680\n",
       "pupper     214\n",
       "Name: pupper, dtype: int64"
      ]
     },
     "execution_count": 39,
     "metadata": {},
     "output_type": "execute_result"
    }
   ],
   "source": [
    "tweet_df['pupper'].value_counts()"
   ]
  },
  {
   "cell_type": "markdown",
   "metadata": {},
   "source": [
    "**Define**\n",
    "Renaming id column so that we can join the tables on that column"
   ]
  },
  {
   "cell_type": "markdown",
   "metadata": {},
   "source": [
    "**Code**"
   ]
  },
  {
   "cell_type": "code",
   "execution_count": 40,
   "metadata": {},
   "outputs": [],
   "source": [
    "tweet_metadata_df = tweet_metadata_df.rename(columns={'id': 'tweet_id'})"
   ]
  },
  {
   "cell_type": "markdown",
   "metadata": {},
   "source": [
    "**Test**"
   ]
  },
  {
   "cell_type": "code",
   "execution_count": 41,
   "metadata": {},
   "outputs": [
    {
     "data": {
      "text/html": [
       "<div>\n",
       "<style scoped>\n",
       "    .dataframe tbody tr th:only-of-type {\n",
       "        vertical-align: middle;\n",
       "    }\n",
       "\n",
       "    .dataframe tbody tr th {\n",
       "        vertical-align: top;\n",
       "    }\n",
       "\n",
       "    .dataframe thead th {\n",
       "        text-align: right;\n",
       "    }\n",
       "</style>\n",
       "<table border=\"1\" class=\"dataframe\">\n",
       "  <thead>\n",
       "    <tr style=\"text-align: right;\">\n",
       "      <th></th>\n",
       "      <th>created_at</th>\n",
       "      <th>tweet_id</th>\n",
       "      <th>id_str</th>\n",
       "      <th>full_text</th>\n",
       "      <th>truncated</th>\n",
       "      <th>display_text_range</th>\n",
       "      <th>entities</th>\n",
       "      <th>extended_entities</th>\n",
       "      <th>source</th>\n",
       "      <th>in_reply_to_status_id</th>\n",
       "      <th>...</th>\n",
       "      <th>favorite_count</th>\n",
       "      <th>favorited</th>\n",
       "      <th>retweeted</th>\n",
       "      <th>possibly_sensitive</th>\n",
       "      <th>possibly_sensitive_appealable</th>\n",
       "      <th>lang</th>\n",
       "      <th>retweeted_status</th>\n",
       "      <th>quoted_status_id</th>\n",
       "      <th>quoted_status_id_str</th>\n",
       "      <th>quoted_status</th>\n",
       "    </tr>\n",
       "  </thead>\n",
       "  <tbody>\n",
       "    <tr>\n",
       "      <th>2104</th>\n",
       "      <td>Sat Nov 28 05:05:47 +0000 2015</td>\n",
       "      <td>670468609693655041</td>\n",
       "      <td>670468609693655041</td>\n",
       "      <td>This is Edd. He's a Czechoslovakian Googolplex...</td>\n",
       "      <td>False</td>\n",
       "      <td>[0, 139]</td>\n",
       "      <td>{'hashtags': [], 'symbols': [], 'user_mentions...</td>\n",
       "      <td>{'media': [{'id': 670468602584256512, 'id_str'...</td>\n",
       "      <td>&lt;a href=\"http://twitter.com/download/iphone\" r...</td>\n",
       "      <td>NaN</td>\n",
       "      <td>...</td>\n",
       "      <td>375</td>\n",
       "      <td>False</td>\n",
       "      <td>False</td>\n",
       "      <td>False</td>\n",
       "      <td>False</td>\n",
       "      <td>en</td>\n",
       "      <td>NaN</td>\n",
       "      <td>NaN</td>\n",
       "      <td>NaN</td>\n",
       "      <td>NaN</td>\n",
       "    </tr>\n",
       "  </tbody>\n",
       "</table>\n",
       "<p>1 rows × 31 columns</p>\n",
       "</div>"
      ],
      "text/plain": [
       "                          created_at            tweet_id              id_str  \\\n",
       "2104  Sat Nov 28 05:05:47 +0000 2015  670468609693655041  670468609693655041   \n",
       "\n",
       "                                              full_text  truncated  \\\n",
       "2104  This is Edd. He's a Czechoslovakian Googolplex...      False   \n",
       "\n",
       "     display_text_range                                           entities  \\\n",
       "2104           [0, 139]  {'hashtags': [], 'symbols': [], 'user_mentions...   \n",
       "\n",
       "                                      extended_entities  \\\n",
       "2104  {'media': [{'id': 670468602584256512, 'id_str'...   \n",
       "\n",
       "                                                 source  \\\n",
       "2104  <a href=\"http://twitter.com/download/iphone\" r...   \n",
       "\n",
       "      in_reply_to_status_id  ... favorite_count  favorited retweeted  \\\n",
       "2104                    NaN  ...            375      False     False   \n",
       "\n",
       "     possibly_sensitive possibly_sensitive_appealable lang retweeted_status  \\\n",
       "2104              False                         False   en              NaN   \n",
       "\n",
       "     quoted_status_id quoted_status_id_str  quoted_status  \n",
       "2104              NaN                  NaN            NaN  \n",
       "\n",
       "[1 rows x 31 columns]"
      ]
     },
     "execution_count": 41,
     "metadata": {},
     "output_type": "execute_result"
    }
   ],
   "source": [
    "tweet_metadata_df.sample(1)"
   ]
  },
  {
   "cell_type": "markdown",
   "metadata": {},
   "source": [
    "**Define**\n",
    "Json file - Dropping the columns that repeat or have too many NaN values"
   ]
  },
  {
   "cell_type": "markdown",
   "metadata": {},
   "source": [
    "**Code**"
   ]
  },
  {
   "cell_type": "code",
   "execution_count": 42,
   "metadata": {},
   "outputs": [],
   "source": [
    "tweet_metadata_df = tweet_metadata_df.drop(['created_at', 'id_str', 'full_text', 'truncated', 'entities', 'extended_entities', 'source',\n",
    "       'in_reply_to_status_id', 'in_reply_to_status_id_str',\n",
    "       'in_reply_to_user_id', 'in_reply_to_user_id_str',\n",
    "       'in_reply_to_screen_name', 'user', 'geo', 'coordinates', 'place',\n",
    "       'contributors', 'is_quote_status',\n",
    "       'favorited', 'retweeted', 'possibly_sensitive',\n",
    "       'possibly_sensitive_appealable', 'lang', 'retweeted_status',\n",
    "       'quoted_status_id', 'quoted_status_id_str', 'quoted_status'], axis=1)"
   ]
  },
  {
   "cell_type": "markdown",
   "metadata": {},
   "source": [
    "**Test**"
   ]
  },
  {
   "cell_type": "code",
   "execution_count": 43,
   "metadata": {},
   "outputs": [
    {
     "data": {
      "text/html": [
       "<div>\n",
       "<style scoped>\n",
       "    .dataframe tbody tr th:only-of-type {\n",
       "        vertical-align: middle;\n",
       "    }\n",
       "\n",
       "    .dataframe tbody tr th {\n",
       "        vertical-align: top;\n",
       "    }\n",
       "\n",
       "    .dataframe thead th {\n",
       "        text-align: right;\n",
       "    }\n",
       "</style>\n",
       "<table border=\"1\" class=\"dataframe\">\n",
       "  <thead>\n",
       "    <tr style=\"text-align: right;\">\n",
       "      <th></th>\n",
       "      <th>tweet_id</th>\n",
       "      <th>display_text_range</th>\n",
       "      <th>retweet_count</th>\n",
       "      <th>favorite_count</th>\n",
       "    </tr>\n",
       "  </thead>\n",
       "  <tbody>\n",
       "    <tr>\n",
       "      <th>6</th>\n",
       "      <td>890971913173991426</td>\n",
       "      <td>[0, 140]</td>\n",
       "      <td>2158</td>\n",
       "      <td>12041</td>\n",
       "    </tr>\n",
       "  </tbody>\n",
       "</table>\n",
       "</div>"
      ],
      "text/plain": [
       "             tweet_id display_text_range  retweet_count  favorite_count\n",
       "6  890971913173991426           [0, 140]           2158           12041"
      ]
     },
     "execution_count": 43,
     "metadata": {},
     "output_type": "execute_result"
    }
   ],
   "source": [
    "tweet_metadata_df.sample(1) "
   ]
  },
  {
   "cell_type": "markdown",
   "metadata": {},
   "source": [
    "**Define**\n",
    "Remove rows for which all 3 predictions are not dogs and create a column \"dog_breed\", that will contain kind of a dog based on value of prediction and if tested positive for dog"
   ]
  },
  {
   "cell_type": "markdown",
   "metadata": {},
   "source": [
    "**Code**"
   ]
  },
  {
   "cell_type": "code",
   "execution_count": 44,
   "metadata": {},
   "outputs": [],
   "source": [
    "image_predictions_df = image_predictions_df[~(\n",
    "    (image_predictions_df[\"p1_dog\"] == False) & \n",
    "    (image_predictions_df[\"p2_dog\"] == False) & \n",
    "    (image_predictions_df[\"p3_dog\"] == False)\n",
    ")]"
   ]
  },
  {
   "cell_type": "code",
   "execution_count": 45,
   "metadata": {},
   "outputs": [],
   "source": [
    "def dog_selection(row):\n",
    "    if row[\"p1_dog\"] is True:\n",
    "        return row[\"p1\"]\n",
    "    elif row[\"p2_dog\"] is True:\n",
    "        return row[\"p2\"]\n",
    "    else:\n",
    "        return row[\"p3\"]\n",
    "\n",
    "image_predictions_df['dog_breed'] = image_predictions_df.apply(dog_selection, axis=1)"
   ]
  },
  {
   "cell_type": "code",
   "execution_count": 46,
   "metadata": {},
   "outputs": [],
   "source": [
    "# Now that we grouped all dog breed into one column, we can delete the unnecessary columns\n",
    "image_predictions_df = image_predictions_df.drop(['p1', 'p1_conf', 'p1_dog', 'p2', 'p2_conf', 'p2_dog',  'p3', 'p3_conf', 'p3_dog'], axis = 1)"
   ]
  },
  {
   "cell_type": "markdown",
   "metadata": {},
   "source": [
    "**Test**"
   ]
  },
  {
   "cell_type": "code",
   "execution_count": 47,
   "metadata": {},
   "outputs": [
    {
     "data": {
      "text/html": [
       "<div>\n",
       "<style scoped>\n",
       "    .dataframe tbody tr th:only-of-type {\n",
       "        vertical-align: middle;\n",
       "    }\n",
       "\n",
       "    .dataframe tbody tr th {\n",
       "        vertical-align: top;\n",
       "    }\n",
       "\n",
       "    .dataframe thead th {\n",
       "        text-align: right;\n",
       "    }\n",
       "</style>\n",
       "<table border=\"1\" class=\"dataframe\">\n",
       "  <thead>\n",
       "    <tr style=\"text-align: right;\">\n",
       "      <th></th>\n",
       "      <th>tweet_id</th>\n",
       "      <th>jpg_url</th>\n",
       "      <th>img_num</th>\n",
       "      <th>dog_breed</th>\n",
       "    </tr>\n",
       "  </thead>\n",
       "  <tbody>\n",
       "    <tr>\n",
       "      <th>352</th>\n",
       "      <td>672538107540070400</td>\n",
       "      <td>https://pbs.twimg.com/media/CVVV1wJWoAEcOyk.jpg</td>\n",
       "      <td>1</td>\n",
       "      <td>Chihuahua</td>\n",
       "    </tr>\n",
       "  </tbody>\n",
       "</table>\n",
       "</div>"
      ],
      "text/plain": [
       "               tweet_id                                          jpg_url  \\\n",
       "352  672538107540070400  https://pbs.twimg.com/media/CVVV1wJWoAEcOyk.jpg   \n",
       "\n",
       "     img_num  dog_breed  \n",
       "352        1  Chihuahua  "
      ]
     },
     "execution_count": 47,
     "metadata": {},
     "output_type": "execute_result"
    }
   ],
   "source": [
    "image_predictions_df.sample(1)"
   ]
  },
  {
   "cell_type": "markdown",
   "metadata": {},
   "source": [
    "## Final clean dataset"
   ]
  },
  {
   "cell_type": "code",
   "execution_count": 48,
   "metadata": {},
   "outputs": [],
   "source": [
    "# Combining all three dataframes into one\n",
    "twitter_archive_master_df = pd.merge(\n",
    "    tweet_df,\n",
    "    tweet_metadata_df,\n",
    "    how=\"inner\",\n",
    "    on='tweet_id',\n",
    ")\n",
    "twitter_archive_master_df = pd.merge(\n",
    "    twitter_archive_master_df,\n",
    "    image_predictions_df,\n",
    "    how=\"inner\",\n",
    "    on='tweet_id',\n",
    ")"
   ]
  },
  {
   "cell_type": "code",
   "execution_count": 49,
   "metadata": {},
   "outputs": [
    {
     "data": {
      "text/html": [
       "<div>\n",
       "<style scoped>\n",
       "    .dataframe tbody tr th:only-of-type {\n",
       "        vertical-align: middle;\n",
       "    }\n",
       "\n",
       "    .dataframe tbody tr th {\n",
       "        vertical-align: top;\n",
       "    }\n",
       "\n",
       "    .dataframe thead th {\n",
       "        text-align: right;\n",
       "    }\n",
       "</style>\n",
       "<table border=\"1\" class=\"dataframe\">\n",
       "  <thead>\n",
       "    <tr style=\"text-align: right;\">\n",
       "      <th></th>\n",
       "      <th>tweet_id</th>\n",
       "      <th>in_reply_to_status_id</th>\n",
       "      <th>in_reply_to_user_id</th>\n",
       "      <th>timestamp</th>\n",
       "      <th>expanded_urls</th>\n",
       "      <th>rating_numerator</th>\n",
       "      <th>rating_denominator</th>\n",
       "      <th>name</th>\n",
       "      <th>doggo</th>\n",
       "      <th>floofer</th>\n",
       "      <th>...</th>\n",
       "      <th>puppo</th>\n",
       "      <th>description</th>\n",
       "      <th>link</th>\n",
       "      <th>source_category</th>\n",
       "      <th>display_text_range</th>\n",
       "      <th>retweet_count</th>\n",
       "      <th>favorite_count</th>\n",
       "      <th>jpg_url</th>\n",
       "      <th>img_num</th>\n",
       "      <th>dog_breed</th>\n",
       "    </tr>\n",
       "  </thead>\n",
       "  <tbody>\n",
       "    <tr>\n",
       "      <th>1189</th>\n",
       "      <td>676613908052996102</td>\n",
       "      <td>NaN</td>\n",
       "      <td>NaN</td>\n",
       "      <td>2015-12-15 04:05:01+00:00</td>\n",
       "      <td>https://twitter.com/dog_rates/status/676613908...</td>\n",
       "      <td>12</td>\n",
       "      <td>10</td>\n",
       "      <td>No_name</td>\n",
       "      <td>None</td>\n",
       "      <td>None</td>\n",
       "      <td>...</td>\n",
       "      <td>None</td>\n",
       "      <td>This is the saddest/sweetest/best picture I've...</td>\n",
       "      <td>https://t.co/vQ2Lw1BLBF</td>\n",
       "      <td>Twitter for iPhone</td>\n",
       "      <td>[0, 90]</td>\n",
       "      <td>219</td>\n",
       "      <td>1183</td>\n",
       "      <td>https://pbs.twimg.com/media/CWPQwmJWUAAu_At.jpg</td>\n",
       "      <td>1</td>\n",
       "      <td>Doberman</td>\n",
       "    </tr>\n",
       "    <tr>\n",
       "      <th>145</th>\n",
       "      <td>853760880890318849</td>\n",
       "      <td>NaN</td>\n",
       "      <td>NaN</td>\n",
       "      <td>2017-04-17 00:03:50+00:00</td>\n",
       "      <td>https://twitter.com/dog_rates/status/853760880...</td>\n",
       "      <td>12</td>\n",
       "      <td>10</td>\n",
       "      <td>Alice</td>\n",
       "      <td>None</td>\n",
       "      <td>None</td>\n",
       "      <td>...</td>\n",
       "      <td>None</td>\n",
       "      <td>Say hello to Alice. I'm told she enjoys car ri...</td>\n",
       "      <td>https://t.co/yT4vw8y77x</td>\n",
       "      <td>Twitter for iPhone</td>\n",
       "      <td>[0, 118]</td>\n",
       "      <td>6403</td>\n",
       "      <td>30414</td>\n",
       "      <td>https://pbs.twimg.com/media/C9kq_bbVwAAuRZd.jpg</td>\n",
       "      <td>1</td>\n",
       "      <td>miniature_pinscher</td>\n",
       "    </tr>\n",
       "    <tr>\n",
       "      <th>911</th>\n",
       "      <td>706681918348251136</td>\n",
       "      <td>NaN</td>\n",
       "      <td>NaN</td>\n",
       "      <td>2016-03-07 03:24:33+00:00</td>\n",
       "      <td>https://twitter.com/dog_rates/status/706681918...</td>\n",
       "      <td>12</td>\n",
       "      <td>10</td>\n",
       "      <td>Katie</td>\n",
       "      <td>None</td>\n",
       "      <td>None</td>\n",
       "      <td>...</td>\n",
       "      <td>None</td>\n",
       "      <td>Say hello to Katie. She's a Mitsubishi Hufflep...</td>\n",
       "      <td>https://t.co/CFPIcGcwJv</td>\n",
       "      <td>Twitter for iPhone</td>\n",
       "      <td>[0, 135]</td>\n",
       "      <td>1103</td>\n",
       "      <td>3627</td>\n",
       "      <td>https://pbs.twimg.com/media/Cc6jcYRXIAAFuox.jpg</td>\n",
       "      <td>1</td>\n",
       "      <td>toy_poodle</td>\n",
       "    </tr>\n",
       "    <tr>\n",
       "      <th>825</th>\n",
       "      <td>719339463458033665</td>\n",
       "      <td>NaN</td>\n",
       "      <td>NaN</td>\n",
       "      <td>2016-04-11 01:41:07+00:00</td>\n",
       "      <td>https://twitter.com/dog_rates/status/719339463...</td>\n",
       "      <td>10</td>\n",
       "      <td>10</td>\n",
       "      <td>Lucy</td>\n",
       "      <td>None</td>\n",
       "      <td>None</td>\n",
       "      <td>...</td>\n",
       "      <td>None</td>\n",
       "      <td>Say hello to Lucy and Sophie. They think they'...</td>\n",
       "      <td>https://t.co/HW50zkcf2R</td>\n",
       "      <td>Twitter for iPhone</td>\n",
       "      <td>[0, 122]</td>\n",
       "      <td>1403</td>\n",
       "      <td>4822</td>\n",
       "      <td>https://pbs.twimg.com/media/Cfuba6NW4AIeMHk.jpg</td>\n",
       "      <td>1</td>\n",
       "      <td>golden_retriever</td>\n",
       "    </tr>\n",
       "    <tr>\n",
       "      <th>541</th>\n",
       "      <td>778039087836069888</td>\n",
       "      <td>NaN</td>\n",
       "      <td>NaN</td>\n",
       "      <td>2016-09-20 01:12:28+00:00</td>\n",
       "      <td>https://twitter.com/dog_rates/status/778039087...</td>\n",
       "      <td>12</td>\n",
       "      <td>10</td>\n",
       "      <td>None</td>\n",
       "      <td>None</td>\n",
       "      <td>None</td>\n",
       "      <td>...</td>\n",
       "      <td>None</td>\n",
       "      <td>Evolution of a pupper yawn featuring Max. 12/1...</td>\n",
       "      <td>https://t.co/t8Y4x9DmVD</td>\n",
       "      <td>Twitter for iPhone</td>\n",
       "      <td>[0, 68]</td>\n",
       "      <td>3065</td>\n",
       "      <td>9417</td>\n",
       "      <td>https://pbs.twimg.com/media/CswmaHmWAAAbdY9.jpg</td>\n",
       "      <td>2</td>\n",
       "      <td>German_shepherd</td>\n",
       "    </tr>\n",
       "  </tbody>\n",
       "</table>\n",
       "<p>5 rows × 21 columns</p>\n",
       "</div>"
      ],
      "text/plain": [
       "                tweet_id  in_reply_to_status_id  in_reply_to_user_id  \\\n",
       "1189  676613908052996102                    NaN                  NaN   \n",
       "145   853760880890318849                    NaN                  NaN   \n",
       "911   706681918348251136                    NaN                  NaN   \n",
       "825   719339463458033665                    NaN                  NaN   \n",
       "541   778039087836069888                    NaN                  NaN   \n",
       "\n",
       "                     timestamp  \\\n",
       "1189 2015-12-15 04:05:01+00:00   \n",
       "145  2017-04-17 00:03:50+00:00   \n",
       "911  2016-03-07 03:24:33+00:00   \n",
       "825  2016-04-11 01:41:07+00:00   \n",
       "541  2016-09-20 01:12:28+00:00   \n",
       "\n",
       "                                          expanded_urls  rating_numerator  \\\n",
       "1189  https://twitter.com/dog_rates/status/676613908...                12   \n",
       "145   https://twitter.com/dog_rates/status/853760880...                12   \n",
       "911   https://twitter.com/dog_rates/status/706681918...                12   \n",
       "825   https://twitter.com/dog_rates/status/719339463...                10   \n",
       "541   https://twitter.com/dog_rates/status/778039087...                12   \n",
       "\n",
       "      rating_denominator     name doggo floofer  ... puppo  \\\n",
       "1189                  10  No_name  None    None  ...  None   \n",
       "145                   10    Alice  None    None  ...  None   \n",
       "911                   10    Katie  None    None  ...  None   \n",
       "825                   10     Lucy  None    None  ...  None   \n",
       "541                   10     None  None    None  ...  None   \n",
       "\n",
       "                                            description  \\\n",
       "1189  This is the saddest/sweetest/best picture I've...   \n",
       "145   Say hello to Alice. I'm told she enjoys car ri...   \n",
       "911   Say hello to Katie. She's a Mitsubishi Hufflep...   \n",
       "825   Say hello to Lucy and Sophie. They think they'...   \n",
       "541   Evolution of a pupper yawn featuring Max. 12/1...   \n",
       "\n",
       "                         link     source_category display_text_range  \\\n",
       "1189  https://t.co/vQ2Lw1BLBF  Twitter for iPhone            [0, 90]   \n",
       "145   https://t.co/yT4vw8y77x  Twitter for iPhone           [0, 118]   \n",
       "911   https://t.co/CFPIcGcwJv  Twitter for iPhone           [0, 135]   \n",
       "825   https://t.co/HW50zkcf2R  Twitter for iPhone           [0, 122]   \n",
       "541   https://t.co/t8Y4x9DmVD  Twitter for iPhone            [0, 68]   \n",
       "\n",
       "     retweet_count  favorite_count  \\\n",
       "1189           219            1183   \n",
       "145           6403           30414   \n",
       "911           1103            3627   \n",
       "825           1403            4822   \n",
       "541           3065            9417   \n",
       "\n",
       "                                              jpg_url img_num  \\\n",
       "1189  https://pbs.twimg.com/media/CWPQwmJWUAAu_At.jpg       1   \n",
       "145   https://pbs.twimg.com/media/C9kq_bbVwAAuRZd.jpg       1   \n",
       "911   https://pbs.twimg.com/media/Cc6jcYRXIAAFuox.jpg       1   \n",
       "825   https://pbs.twimg.com/media/Cfuba6NW4AIeMHk.jpg       1   \n",
       "541   https://pbs.twimg.com/media/CswmaHmWAAAbdY9.jpg       2   \n",
       "\n",
       "               dog_breed  \n",
       "1189            Doberman  \n",
       "145   miniature_pinscher  \n",
       "911           toy_poodle  \n",
       "825     golden_retriever  \n",
       "541      German_shepherd  \n",
       "\n",
       "[5 rows x 21 columns]"
      ]
     },
     "execution_count": 49,
     "metadata": {},
     "output_type": "execute_result"
    }
   ],
   "source": [
    "twitter_archive_master_df.sample(5)"
   ]
  },
  {
   "cell_type": "code",
   "execution_count": 50,
   "metadata": {},
   "outputs": [],
   "source": [
    "twitter_archive_master_df.to_csv(\"twitter_archive_master.csv\")"
   ]
  },
  {
   "cell_type": "code",
   "execution_count": 51,
   "metadata": {},
   "outputs": [],
   "source": [
    "# Create a copy of df for analysis\n",
    "df = twitter_archive_master_df.copy()"
   ]
  },
  {
   "cell_type": "code",
   "execution_count": 52,
   "metadata": {},
   "outputs": [
    {
     "data": {
      "text/plain": [
       "Index(['tweet_id', 'in_reply_to_status_id', 'in_reply_to_user_id', 'timestamp',\n",
       "       'expanded_urls', 'rating_numerator', 'rating_denominator', 'name',\n",
       "       'doggo', 'floofer', 'pupper', 'puppo', 'description', 'link',\n",
       "       'source_category', 'display_text_range', 'retweet_count',\n",
       "       'favorite_count', 'jpg_url', 'img_num', 'dog_breed'],\n",
       "      dtype='object')"
      ]
     },
     "execution_count": 52,
     "metadata": {},
     "output_type": "execute_result"
    }
   ],
   "source": [
    "df.columns"
   ]
  },
  {
   "cell_type": "code",
   "execution_count": 53,
   "metadata": {},
   "outputs": [
    {
     "data": {
      "text/plain": [
       "None        361\n",
       "No_name      51\n",
       "Charlie      10\n",
       "Lucy         10\n",
       "Tucker        9\n",
       "           ... \n",
       "Marley        1\n",
       "Karma         1\n",
       "Tycho         1\n",
       "Penelope      1\n",
       "Snoopy        1\n",
       "Name: name, Length: 721, dtype: int64"
      ]
     },
     "execution_count": 53,
     "metadata": {},
     "output_type": "execute_result"
    }
   ],
   "source": [
    "df['name'].value_counts()"
   ]
  },
  {
   "cell_type": "markdown",
   "metadata": {},
   "source": [
    "# Visualization"
   ]
  },
  {
   "cell_type": "markdown",
   "metadata": {},
   "source": [
    "#### Top 10 dog breeds"
   ]
  },
  {
   "cell_type": "code",
   "execution_count": 54,
   "metadata": {},
   "outputs": [
    {
     "data": {
      "image/png": "[encoded data removed]",
      "text/plain": [
       "<Figure size 864x432 with 1 Axes>"
      ]
     },
     "metadata": {
      "needs_background": "light"
     },
     "output_type": "display_data"
    }
   ],
   "source": [
    "df['dog_breed'].value_counts()[10::-1].plot(kind='barh', figsize=(12,6));\n",
    "plt.ylabel('Dog breed')\n",
    "plt.xlabel('Number of dog breeds')\n",
    "plt.title('Top 10 dog breeds');\n",
    "plt.savefig('top_10_dog_breeds.png')"
   ]
  },
  {
   "cell_type": "markdown",
   "metadata": {},
   "source": [
    "#### Number of likes vs dog breed"
   ]
  },
  {
   "cell_type": "code",
   "execution_count": 55,
   "metadata": {},
   "outputs": [
    {
     "data": {
      "image/png": "[encoded data removed]",
      "text/plain": [
       "<Figure size 864x432 with 1 Axes>"
      ]
     },
     "metadata": {
      "needs_background": "light"
     },
     "output_type": "display_data"
    }
   ],
   "source": [
    "# Let's see which dog breeds have the most likes \n",
    "most_liked_dog_breed = df.sort_values(['favorite_count'], ascending = False).head(20)\n",
    "most_liked_dog_breed = most_liked_dog_breed.reset_index()\n",
    "most_liked_dog_breed.plot(x='dog_breed', y='favorite_count', kind='bar', figsize=(12,6), legend=None);\n",
    "plt.ylabel('Number of likes')\n",
    "plt.xlabel('Dog breed')\n",
    "plt.title('Number of likes vs dog breed');\n",
    "plt.tight_layout()\n",
    "plt.savefig(\"Number of likes vs dog breed.png\")"
   ]
  },
  {
   "cell_type": "markdown",
   "metadata": {},
   "source": [
    "#### Number of retweets vs dog breed"
   ]
  },
  {
   "cell_type": "code",
   "execution_count": 56,
   "metadata": {},
   "outputs": [
    {
     "data": {
      "image/png": "[encoded data removed]",
      "text/plain": [
       "<Figure size 864x432 with 1 Axes>"
      ]
     },
     "metadata": {
      "needs_background": "light"
     },
     "output_type": "display_data"
    }
   ],
   "source": [
    "# Let's see which dog breeds have the most retweets\n",
    "most_retweeted_dog_breed = df.sort_values(['retweet_count'], ascending = False).head(20)\n",
    "most_retweeted_dog_breed = most_retweeted_dog_breed.reset_index()\n",
    "most_retweeted_dog_breed.plot(x='dog_breed', y='retweet_count', kind='barh', figsize=(12,6), legend=None);\n",
    "plt.ylabel('Number of retweets')\n",
    "plt.xlabel('Dog breed')\n",
    "plt.title('Number of retweets vs dog breed');\n",
    "plt.savefig(\"Number of retweets vs dog breed.png\")"
   ]
  },
  {
   "cell_type": "markdown",
   "metadata": {},
   "source": [
    "#### Let's observe retweets number over the years"
   ]
  },
  {
   "cell_type": "code",
   "execution_count": 57,
   "metadata": {},
   "outputs": [
    {
     "data": {
      "text/plain": [
       "year\n",
       "2015    0.093063\n",
       "2016    0.474654\n",
       "2017    0.432283\n",
       "Name: retweet_count, dtype: float64"
      ]
     },
     "execution_count": 57,
     "metadata": {},
     "output_type": "execute_result"
    }
   ],
   "source": [
    "df['year'] = df['timestamp'].dt.year\n",
    "df.groupby('year')['retweet_count'].sum()/df['retweet_count'].sum()"
   ]
  },
  {
   "cell_type": "code",
   "execution_count": 58,
   "metadata": {},
   "outputs": [
    {
     "data": {
      "image/png": "[encoded data removed]",
      "text/plain": [
       "<Figure size 432x288 with 1 Axes>"
      ]
     },
     "metadata": {},
     "output_type": "display_data"
    }
   ],
   "source": [
    "plt.pie(\n",
    "    df.groupby('year')['retweet_count'].sum()/df['retweet_count'].sum(), \n",
    "    labels = sorted(df['year'].unique()),\n",
    "    startangle=90,\n",
    "    autopct='%1.1f%%'\n",
    ");\n",
    "plt.savefig(\"Retweets over the years.png\")"
   ]
  },
  {
   "cell_type": "markdown",
   "metadata": {},
   "source": [
    "#### Let's observe likes number over the years"
   ]
  },
  {
   "cell_type": "code",
   "execution_count": 59,
   "metadata": {},
   "outputs": [
    {
     "data": {
      "image/png": "[encoded data removed]",
      "text/plain": [
       "<Figure size 432x288 with 1 Axes>"
      ]
     },
     "metadata": {},
     "output_type": "display_data"
    }
   ],
   "source": [
    "plt.pie(\n",
    "    df.groupby('year')['favorite_count'].sum()/df['favorite_count'].sum(), \n",
    "    labels = sorted(df['year'].unique()),\n",
    "    startangle=90,\n",
    "    autopct='%1.1f%%'\n",
    ");\n",
    "plt.savefig(\"Likes over the years.png\")"
   ]
  },
  {
   "cell_type": "markdown",
   "metadata": {},
   "source": [
    "#### This is the relationship between the number of likes and number of retweets. As we can see, they are positively correlated"
   ]
  },
  {
   "cell_type": "code",
   "execution_count": 60,
   "metadata": {},
   "outputs": [
    {
     "data": {
      "image/png": "[encoded data removed]",
      "text/plain": [
       "<Figure size 432x288 with 1 Axes>"
      ]
     },
     "metadata": {
      "needs_background": "light"
     },
     "output_type": "display_data"
    }
   ],
   "source": [
    "sb.regplot(data = df, x = 'retweet_count', y = 'favorite_count');\n",
    "plt.xlabel('retweet_count')\n",
    "plt.ylabel('favorite_count')\n",
    "plt.savefig(\"Correlation between number of retweets and number of likes.png\")"
   ]
  },
  {
   "cell_type": "markdown",
   "metadata": {},
   "source": [
    "#### Let's observe the number of tweets over time"
   ]
  },
  {
   "cell_type": "code",
   "execution_count": 61,
   "metadata": {},
   "outputs": [
    {
     "data": {
      "image/png": "[encoded data removed]",
      "text/plain": [
       "<Figure size 432x288 with 1 Axes>"
      ]
     },
     "metadata": {
      "needs_background": "light"
     },
     "output_type": "display_data"
    }
   ],
   "source": [
    "tweets_trend = df['tweet_id'].groupby([df['timestamp'].dt.year, df['timestamp'].dt.month]).count()\n",
    "tweets_trend.plot(kind='line', title='Number of tweets over time')\n",
    "plt.xlabel('(Year, Month)')\n",
    "plt.ylabel('Number of Tweets')\n",
    "plt.savefig('tweet_trend.png')"
   ]
  },
  {
   "cell_type": "markdown",
   "metadata": {},
   "source": [
    "#### Lets find out the top 10 names for dogs"
   ]
  },
  {
   "cell_type": "code",
   "execution_count": 62,
   "metadata": {},
   "outputs": [
    {
     "data": {
      "image/png": "[encoded data removed]",
      "text/plain": [
       "<Figure size 864x432 with 1 Axes>"
      ]
     },
     "metadata": {
      "needs_background": "light"
     },
     "output_type": "display_data"
    }
   ],
   "source": [
    "dog_breeds = df['name'].value_counts().drop(labels=['None', 'No_name'])\n",
    "df['name'].value_counts()[1:10].plot(kind='barh', figsize=(12,6), title='10 most popular dog names').set_xlabel(\"Number of Dogs\")\n",
    "plt.savefig('top_10_dog_names.png')"
   ]
  },
  {
   "cell_type": "code",
   "execution_count": 63,
   "metadata": {},
   "outputs": [
    {
     "data": {
      "image/png": "[encoded data removed]",
      "text/plain": [
       "<Figure size 864x432 with 1 Axes>"
      ]
     },
     "metadata": {
      "needs_background": "light"
     },
     "output_type": "display_data"
    }
   ],
   "source": [
    "# Most common names for dogs\n",
    "dog_breeds = df['name'].value_counts().drop(labels=['None', 'No_name'])\n",
    "plt.title(\"10 Most popular Dog names\")\n",
    "df['name'].value_counts()[11::-1].plot(kind='barh', figsize=(12,6));\n",
    "plt.savefig('Top_10_dog_names.png')"
   ]
  },
  {
   "cell_type": "code",
   "execution_count": null,
   "metadata": {},
   "outputs": [],
   "source": []
  }
 ],
 "metadata": {
  "kernelspec": {
   "display_name": "Python 3",
   "language": "python",
   "name": "python3"
  },
  "language_info": {
   "codemirror_mode": {
    "name": "ipython",
    "version": 3
   },
   "file_extension": ".py",
   "mimetype": "text/x-python",
   "name": "python",
   "nbconvert_exporter": "python",
   "pygments_lexer": "ipython3",
   "version": "3.7.4"
  },
  "toc-autonumbering": true,
  "toc-showcode": false,
  "toc-showmarkdowntxt": true
 },
 "nbformat": 4,
 "nbformat_minor": 4
}
